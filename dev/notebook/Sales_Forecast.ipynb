{
 "cells": [
  {
   "cell_type": "markdown",
   "id": "e9eb1c2e",
   "metadata": {},
   "source": [
    "# Notebook Overview"
   ]
  },
  {
   "cell_type": "markdown",
   "id": "07a41abb",
   "metadata": {},
   "source": [
    "In this notebook, we perform an Exploratory Data Analysis on a dataset and train a machine learningng model that focuses on predicting the sales of various products in grocery stores based on historical data. This case study explores the data, methodologies, and models used to tackle the challenge, providing insights into the predictive analytics process."
   ]
  },
  {
   "cell_type": "markdown",
   "id": "5d2504a1",
   "metadata": {},
   "source": [
    "# Set Up\n",
    "\n",
    "\n",
    "\n",
    "## *Installation*\n",
    "\n",
    "Here is the section where we installed all the packages/libraries that will be needed to tackle the challlenge."
   ]
  },
  {
   "cell_type": "code",
   "execution_count": 1,
   "id": "c734b1cf",
   "metadata": {},
   "outputs": [],
   "source": [
    "# Installatin of packages\n",
    "#!pip install numpy\n",
    "#!pip install pandas\n",
    "#!pip install patool\n",
    "#!pip install forex_python\n",
    "#!pip install pandas_profiling\n",
    "#! pip install https://github.com/pandas-profiling/pandas-profiling/archive/master.zip \n",
    "#!pip install -U imbalanced-learn"
   ]
  },
  {
   "cell_type": "markdown",
   "id": "c9511341",
   "metadata": {},
   "source": [
    "# *Importation*\n",
    "Here is the section to import all the packages/libraries that will be used through this notebook."
   ]
  },
  {
   "cell_type": "code",
   "execution_count": 2,
   "id": "28930df8",
   "metadata": {},
   "outputs": [],
   "source": [
    "# Data handling\n",
    "import pandas as pd\n",
    "import numpy as np\n",
    "from statistics import mean\n",
    "from forex_python.converter import CurrencyRates\n",
    "from babel.numbers import format_currency\n",
    "import datetime as dt\n",
    "\n",
    "# Statistics\n",
    "from scipy import stats\n",
    "from scipy.stats import shapiro, trim_mean, mstats, mode\n",
    "from scipy.stats import ttest_ind\n",
    "\n",
    "\n",
    "# Vizualisation (Matplotlib, Plotly, Seaborn, etc. )\n",
    "%matplotlib inline\n",
    "import matplotlib as mpl\n",
    "import matplotlib.pyplot as plt\n",
    "import seaborn as sn\n",
    "\n",
    "\n",
    "# balance data\n",
    "from imblearn import under_sampling, over_sampling\n",
    "from imblearn.over_sampling import SMOTE, RandomOverSampler\n",
    "from imblearn.under_sampling import RandomUnderSampler\n",
    "\n",
    "# Machine learning libraries and metrics\n",
    "from sklearn.preprocessing import OneHotEncoder\n",
    "from sklearn.model_selection import train_test_split\n",
    "from sklearn.preprocessing import StandardScaler\n",
    "from sklearn.ensemble import RandomForestClassifier\n",
    "from sklearn.metrics import classification_report\n",
    "from sklearn.metrics import accuracy_score\n",
    "from sklearn.metrics import precision_score\n",
    "from sklearn.metrics import recall_score\n",
    "from sklearn.metrics import f1_score\n",
    "from sklearn.linear_model import LogisticRegression\n",
    "from sklearn.ensemble import GradientBoostingClassifier\n",
    "\n",
    "# Feature Processing (Scikit-learn processing, etc. )\n",
    "from sklearn.preprocessing import StandardScaler, RobustScaler, OneHotEncoder, LabelEncoder, Binarizer\n",
    "from sklearn.model_selection import GridSearchCV, StratifiedKFold\n",
    "from sklearn.metrics import f1_score,roc_curve, auc,roc_auc_score\n",
    "from sklearn.preprocessing import FunctionTransformer\n",
    "from sklearn.compose import ColumnTransformer\n",
    "from sklearn.compose import TransformedTargetRegressor\n",
    "import joblib\n",
    "# Other packages\n",
    "import os\n",
    "import warnings\n",
    "warnings.filterwarnings('ignore')\n",
    "import patoolib\n",
    "import pickle\n",
    "from sklearn.pipeline import Pipeline"
   ]
  },
  {
   "cell_type": "code",
   "execution_count": null,
   "id": "b0935005",
   "metadata": {},
   "outputs": [],
   "source": []
  }
 ],
 "metadata": {
  "kernelspec": {
   "display_name": "Python 3 (ipykernel)",
   "language": "python",
   "name": "python3"
  },
  "language_info": {
   "codemirror_mode": {
    "name": "ipython",
    "version": 3
   },
   "file_extension": ".py",
   "mimetype": "text/x-python",
   "name": "python",
   "nbconvert_exporter": "python",
   "pygments_lexer": "ipython3",
   "version": "3.10.7"
  }
 },
 "nbformat": 4,
 "nbformat_minor": 5
}
