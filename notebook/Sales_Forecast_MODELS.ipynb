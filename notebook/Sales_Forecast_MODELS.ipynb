{
 "cells": [
  {
   "cell_type": "markdown",
   "id": "87c03c70",
   "metadata": {},
   "source": [
    "# Notebook Overview"
   ]
  },
  {
   "cell_type": "markdown",
   "id": "886a12a6",
   "metadata": {},
   "source": [
    "In this notebook, we train a machine learningng model that focuses on predicting the sales of various products in grocery stores based on historical data. This case study explores the data, methodologies, and models used to tackle the challenge, providing insights into the predictive analytics process"
   ]
  },
  {
   "cell_type": "markdown",
   "id": "92752ca7",
   "metadata": {},
   "source": [
    "# Set Up\n",
    "\n",
    "\n",
    "\n",
    "## *Installation*\n",
    "\n",
    "Here is the section where we installed all the packages/libraries that will be needed to tackle the challlenge."
   ]
  },
  {
   "cell_type": "code",
   "execution_count": 1,
   "id": "844b500e",
   "metadata": {},
   "outputs": [],
   "source": [
    "# Installatin of packages\n",
    "#!pip install numpy\n",
    "#!pip install pandas\n",
    "#!pip install patool\n",
    "#!pip install forex_python\n",
    "#!pip install pandas_profiling\n",
    "#! pip install https://github.com/pandas-profiling/pandas-profiling/archive/master.zip \n",
    "#!pip install -U imbalanced-learn\n",
    "#!pip install plotly\n",
    "#!pip install sweetviz\n",
    "#!pip install catboost\n",
    "#!pip install xgboost\n",
    "#!pip install lightgbm"
   ]
  },
  {
   "cell_type": "markdown",
   "id": "1df64da5",
   "metadata": {},
   "source": [
    "# *Importation*\n",
    "Here is the section to import all the packages/libraries that will be used through this notebook."
   ]
  },
  {
   "cell_type": "code",
   "execution_count": 3,
   "id": "ad78b7db",
   "metadata": {},
   "outputs": [],
   "source": [
    "# Data handling\n",
    "import pandas as pd\n",
    "import numpy as np\n",
    "from statistics import mean\n",
    "from forex_python.converter import CurrencyRates\n",
    "from babel.numbers import format_currency\n",
    "import datetime as dt\n",
    "\n",
    "# Statistics\n",
    "from scipy import stats\n",
    "from scipy.stats import shapiro, trim_mean, mstats, mode\n",
    "from scipy.stats import ttest_ind\n",
    "\n",
    "\n",
    "# Vizualisation (Matplotlib, Plotly, Seaborn, etc. )\n",
    "%matplotlib inline\n",
    "import matplotlib as mpl\n",
    "import matplotlib.pyplot as plt\n",
    "import seaborn as sns\n",
    "import plotly\n",
    "from plotly.offline import plot\n",
    "from IPython.display import display\n",
    "import plotly.express as px\n",
    "import plotly.graph_objects as go\n",
    "\n",
    "# balance data\n",
    "from imblearn import under_sampling, over_sampling\n",
    "from imblearn.over_sampling import SMOTE, RandomOverSampler\n",
    "from imblearn.under_sampling import RandomUnderSampler\n",
    "\n",
    "# Machine learning libraries and metrics\n",
    "from sklearn.preprocessing import OneHotEncoder\n",
    "from sklearn.model_selection import train_test_split\n",
    "from sklearn.preprocessing import StandardScaler\n",
    "from sklearn.ensemble import RandomForestClassifier\n",
    "from sklearn.metrics import classification_report\n",
    "from sklearn.metrics import accuracy_score\n",
    "from sklearn.metrics import precision_score\n",
    "from sklearn.metrics import recall_score\n",
    "from sklearn.metrics import f1_score\n",
    "from sklearn.linear_model import LogisticRegression\n",
    "from sklearn.ensemble import GradientBoostingClassifier\n",
    "\n",
    "# Feature Processing (Scikit-learn processing, etc. )\n",
    "from sklearn.preprocessing import StandardScaler, RobustScaler, OneHotEncoder, LabelEncoder, Binarizer\n",
    "from sklearn.model_selection import GridSearchCV, StratifiedKFold\n",
    "from sklearn.metrics import f1_score,roc_curve, auc,roc_auc_score\n",
    "from sklearn.preprocessing import FunctionTransformer\n",
    "from sklearn.compose import ColumnTransformer\n",
    "from sklearn.compose import TransformedTargetRegressor\n",
    "import joblib\n",
    "from sklearn.pipeline import Pipeline\n",
    "import pickle\n",
    "# Other packages\n",
    "from statsmodels.tsa.seasonal import seasonal_decompose\n",
    "import os\n",
    "import warnings\n",
    "warnings.filterwarnings('ignore')"
   ]
  },
  {
   "cell_type": "markdown",
   "id": "7a16787a",
   "metadata": {},
   "source": [
    "# Data Loading\n",
    "Here is the section to load the datasets (train, eval, test) and the additional files"
   ]
  },
  {
   "cell_type": "code",
   "execution_count": 4,
   "id": "4debe797",
   "metadata": {},
   "outputs": [],
   "source": [
    "testurl=\"https://raw.githubusercontent.com/Gilbert-B/Forecasting-Sales/main/data/test.csv\"\n",
    "trainurl=\"https://raw.githubusercontent.com/Gilbert-B/Forecasting-Sales/main/data/train.csv\"\n",
    "dateurl=\"https://raw.githubusercontent.com/Gilbert-B/Forecasting-Sales/main/data/dates.csv\"\n",
    "holidaysurl=\"https://raw.githubusercontent.com/Gilbert-B/Forecasting-Sales/main/data/holidays.csv\"\n",
    "storesurl=\"https://raw.githubusercontent.com/Gilbert-B/Forecasting-Sales/main/data/stores.csv\""
   ]
  },
  {
   "cell_type": "code",
   "execution_count": 5,
   "id": "04e5639a",
   "metadata": {},
   "outputs": [],
   "source": [
    "test = pd.read_csv(testurl,error_bad_lines=False)\n",
    "train= pd.read_csv(trainurl,error_bad_lines=False)\n",
    "date= pd.read_csv(dateurl,error_bad_lines=False)\n",
    "holidays= pd.read_csv(holidaysurl,error_bad_lines=False)\n",
    "stores= pd.read_csv(storesurl,error_bad_lines=False)"
   ]
  },
  {
   "cell_type": "markdown",
   "id": "e98b3f80",
   "metadata": {},
   "source": [
    "# Exploratory Data Analysis: EDA\n",
    "for full EDA kindly visist \"https://github.com/Gilbert-B/Forecasting-Sales/blob/main/notebook/Sales_Forecast_EDA.ipynb/\n",
    "\""
   ]
  },
  {
   "cell_type": "code",
   "execution_count": null,
   "id": "d0b196bb",
   "metadata": {},
   "outputs": [],
   "source": []
  }
 ],
 "metadata": {
  "kernelspec": {
   "display_name": "Python 3 (ipykernel)",
   "language": "python",
   "name": "python3"
  },
  "language_info": {
   "codemirror_mode": {
    "name": "ipython",
    "version": 3
   },
   "file_extension": ".py",
   "mimetype": "text/x-python",
   "name": "python",
   "nbconvert_exporter": "python",
   "pygments_lexer": "ipython3",
   "version": "3.10.7"
  }
 },
 "nbformat": 4,
 "nbformat_minor": 5
}
