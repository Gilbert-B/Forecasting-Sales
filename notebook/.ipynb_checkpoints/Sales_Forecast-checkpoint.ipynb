{
 "cells": [
  {
   "cell_type": "markdown",
   "id": "26934598",
   "metadata": {},
   "source": [
    "# Notebook Overview"
   ]
  },
  {
   "cell_type": "markdown",
   "id": "c07d5f45",
   "metadata": {},
   "source": [
    "In this notebook, we perform an Exploratory Data Analysis on a dataset and train a machine learningng model that focuses on predicting the sales of various products in grocery stores based on historical data. This case study explores the data, methodologies, and models used to tackle the challenge, providing insights into the predictive analytics process."
   ]
  },
  {
   "cell_type": "markdown",
   "id": "3e66e7f9",
   "metadata": {},
   "source": [
    "# Set Up\n",
    "\n",
    "\n",
    "\n",
    "**Installation**\n",
    "\n",
    "Here is the section where we installed all the packages/libraries that will be needed to tackle the challlenge."
   ]
  },
  {
   "cell_type": "code",
   "execution_count": null,
   "id": "0e90b50d",
   "metadata": {},
   "outputs": [],
   "source": []
  }
 ],
 "metadata": {
  "kernelspec": {
   "display_name": "Python 3 (ipykernel)",
   "language": "python",
   "name": "python3"
  },
  "language_info": {
   "codemirror_mode": {
    "name": "ipython",
    "version": 3
   },
   "file_extension": ".py",
   "mimetype": "text/x-python",
   "name": "python",
   "nbconvert_exporter": "python",
   "pygments_lexer": "ipython3",
   "version": "3.10.7"
  }
 },
 "nbformat": 4,
 "nbformat_minor": 5
}
